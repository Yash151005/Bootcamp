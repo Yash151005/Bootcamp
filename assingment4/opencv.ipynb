{
 "cells": [
  {
   "cell_type": "code",
   "execution_count": 33,
   "metadata": {},
   "outputs": [
    {
     "name": "stdout",
     "output_type": "stream",
     "text": [
      "Requirement already satisfied: opencv-python in c:\\users\\yash\\appdata\\local\\packages\\pythonsoftwarefoundation.python.3.11_qbz5n2kfra8p0\\localcache\\local-packages\\python311\\site-packages (4.9.0.80)\n",
      "Requirement already satisfied: numpy>=1.21.2 in c:\\users\\yash\\appdata\\local\\packages\\pythonsoftwarefoundation.python.3.11_qbz5n2kfra8p0\\localcache\\local-packages\\python311\\site-packages (from opencv-python) (1.26.4)\n",
      "Note: you may need to restart the kernel to use updated packages.\n"
     ]
    }
   ],
   "source": [
    "%pip install opencv-python"
   ]
  },
  {
   "cell_type": "code",
   "execution_count": 34,
   "metadata": {},
   "outputs": [
    {
     "name": "stdout",
     "output_type": "stream",
     "text": [
      "4.9.0\n"
     ]
    }
   ],
   "source": [
    "import cv2\n",
    "print(cv2.__version__)"
   ]
  },
  {
   "cell_type": "code",
   "execution_count": 35,
   "metadata": {},
   "outputs": [],
   "source": [
    "img=cv2.imread(\"./im.jpeg\")\n",
    "cv2.imshow('Image',img)\n",
    "cv2.waitKey(0)\n",
    "cv2.destroyAllWindows()"
   ]
  },
  {
   "cell_type": "code",
   "execution_count": 36,
   "metadata": {},
   "outputs": [
    {
     "data": {
      "text/plain": [
       "(182, 278, 3)"
      ]
     },
     "execution_count": 36,
     "metadata": {},
     "output_type": "execute_result"
    }
   ],
   "source": [
    "img.shape"
   ]
  },
  {
   "cell_type": "code",
   "execution_count": 37,
   "metadata": {},
   "outputs": [],
   "source": [
    "resized_img=cv2.resize(img,(500,500))\n",
    "cv2.imshow('Resized image',resized_img)\n",
    "cv2.waitKey(0)\n",
    "cv2.destroyAllWindows()"
   ]
  },
  {
   "cell_type": "code",
   "execution_count": 38,
   "metadata": {},
   "outputs": [],
   "source": [
    "gray_img=cv2.cvtColor(resized_img,cv2.COLOR_BGR2GRAY)\n",
    "cv2.imshow('Gray Image',gray_img)\n",
    "cv2.waitKey(0)\n",
    "cv2.destroyAllWindows()"
   ]
  },
  {
   "cell_type": "code",
   "execution_count": 39,
   "metadata": {},
   "outputs": [
    {
     "data": {
      "text/plain": [
       "(500, 500)"
      ]
     },
     "execution_count": 39,
     "metadata": {},
     "output_type": "execute_result"
    }
   ],
   "source": [
    "gray_img.shape"
   ]
  },
  {
   "cell_type": "code",
   "execution_count": 40,
   "metadata": {},
   "outputs": [],
   "source": [
    "cropped_img=resized_img[100:200,100:400]\n",
    "cv2.imshow('Cropped Image',cropped_img)\n",
    "cv2.waitKey(0)\n",
    "cv2.destroyAllWindows()"
   ]
  },
  {
   "cell_type": "code",
   "execution_count": 41,
   "metadata": {},
   "outputs": [],
   "source": [
    "(h,w)=resized_img.shape[:2]\n",
    "center=(w // 2,h // 2)\n",
    "m=cv2.getRotationMatrix2D(center,37,1.0)\n",
    "rotated_img=cv2.warpAffine(resized_img,m,(w,h))\n",
    "cv2.imshow('Rotated Image',rotated_img)\n",
    "cv2.waitKey(0)\n",
    "cv2.destroyAllWindows()"
   ]
  },
  {
   "cell_type": "code",
   "execution_count": 42,
   "metadata": {},
   "outputs": [
    {
     "data": {
      "text/plain": [
       "array([[[ 76, 191, 171],\n",
       "        [ 76, 191, 171],\n",
       "        [ 77, 192, 172],\n",
       "        ...,\n",
       "        [ 63, 149, 127],\n",
       "        [ 59, 144, 121],\n",
       "        [ 58, 143, 121]],\n",
       "\n",
       "       [[ 62, 176, 156],\n",
       "        [ 62, 176, 156],\n",
       "        [ 63, 177, 157],\n",
       "        ...,\n",
       "        [ 69, 154, 132],\n",
       "        [ 67, 151, 129],\n",
       "        [ 66, 151, 129]],\n",
       "\n",
       "       [[ 39, 152, 132],\n",
       "        [ 39, 152, 132],\n",
       "        [ 40, 153, 133],\n",
       "        ...,\n",
       "        [ 78, 162, 140],\n",
       "        [ 81, 164, 142],\n",
       "        [ 81, 164, 142]],\n",
       "\n",
       "       ...,\n",
       "\n",
       "       [[ 94, 197, 170],\n",
       "        [ 94, 196, 169],\n",
       "        [ 91, 194, 167],\n",
       "        ...,\n",
       "        [ 85, 200, 182],\n",
       "        [ 89, 204, 185],\n",
       "        [ 89, 204, 185]],\n",
       "\n",
       "       [[ 78, 180, 154],\n",
       "        [ 78, 180, 153],\n",
       "        [ 74, 176, 149],\n",
       "        ...,\n",
       "        [ 81, 196, 177],\n",
       "        [ 85, 200, 181],\n",
       "        [ 85, 200, 181]],\n",
       "\n",
       "       [[ 69, 170, 144],\n",
       "        [ 68, 169, 143],\n",
       "        [ 64, 165, 139],\n",
       "        ...,\n",
       "        [ 79, 194, 175],\n",
       "        [ 82, 197, 179],\n",
       "        [ 83, 198, 179]]], dtype=uint8)"
      ]
     },
     "execution_count": 42,
     "metadata": {},
     "output_type": "execute_result"
    }
   ],
   "source": [
    "cv2.rotate(resized_img,cv2.ROTATE_90_CLOCKWISE)"
   ]
  },
  {
   "cell_type": "code",
   "execution_count": 43,
   "metadata": {},
   "outputs": [],
   "source": [
    "blurred_img=cv2.GaussianBlur(resized_img,(5,5),0)\n",
    "cv2.imshow('Gussian Blurred Image',blurred_img)\n",
    "cv2.waitKey(0)\n",
    "cv2.destroyAllWindows()"
   ]
  },
  {
   "cell_type": "code",
   "execution_count": 44,
   "metadata": {},
   "outputs": [],
   "source": [
    "median_blurred_img=cv2.medianBlur(resized_img,5)\n",
    "cv2.imshow('Median Blurred Image',median_blurred_img)\n",
    "cv2.waitKey(0)\n",
    "cv2.destroyAllWindows()"
   ]
  },
  {
   "cell_type": "code",
   "execution_count": 45,
   "metadata": {},
   "outputs": [],
   "source": [
    "bilateral_blurred_img=cv2.bilateralFilter(resized_img,9,75,75)\n",
    "cv2.imshow('Bilateral blurred Image',bilateral_blurred_img)\n",
    "cv2.waitKey(0)\n",
    "cv2.destroyAllWindows()"
   ]
  },
  {
   "cell_type": "code",
   "execution_count": 46,
   "metadata": {},
   "outputs": [],
   "source": [
    "average_blurred_img=cv2.blur(resized_img,(5,5))\n",
    "cv2.imshow('Average Blureed Image',average_blurred_img)\n",
    "cv2.waitKey(0)\n",
    "cv2.destroyAllWindows()"
   ]
  },
  {
   "cell_type": "code",
   "execution_count": 47,
   "metadata": {},
   "outputs": [],
   "source": [
    "_, thresh_img=cv2.threshold(gray_img,127,255,cv2.THRESH_BINARY)\n",
    "cv2.imshow('Binary Threshold',thresh_img)\n",
    "cv2.waitKey(0)\n",
    "cv2.destroyAllWindows()"
   ]
  },
  {
   "cell_type": "code",
   "execution_count": 48,
   "metadata": {},
   "outputs": [],
   "source": [
    "_, thresh_img=cv2.threshold(gray_img,127,255,cv2.THRESH_BINARY_INV)\n",
    "cv2.imshow('Inverse Threshold',thresh_img)\n",
    "cv2.waitKey(0)\n",
    "cv2.destroyAllWindows()"
   ]
  },
  {
   "cell_type": "code",
   "execution_count": 49,
   "metadata": {},
   "outputs": [],
   "source": [
    "_, thresh_img=cv2.threshold(gray_img,127,255,cv2.THRESH_TRUNC)\n",
    "cv2.imshow('Truncated Threshold',thresh_img)\n",
    "cv2.waitKey(0)\n",
    "cv2.destroyAllWindows()"
   ]
  },
  {
   "cell_type": "code",
   "execution_count": 50,
   "metadata": {},
   "outputs": [],
   "source": [
    "_, thresh_img=cv2.threshold(gray_img,127,255,cv2.THRESH_TOZERO)\n",
    "cv2.imshow(' Zero  Threshold',thresh_img)\n",
    "cv2.waitKey(0)\n",
    "cv2.destroyAllWindows()"
   ]
  },
  {
   "cell_type": "code",
   "execution_count": 51,
   "metadata": {},
   "outputs": [],
   "source": [
    "_, thresh_img=cv2.threshold(gray_img,127,255,cv2.THRESH_TOZERO_INV)\n",
    "cv2.imshow('Inverse zero Threshold',thresh_img)\n",
    "cv2.waitKey(0)\n",
    "cv2.destroyAllWindows()"
   ]
  },
  {
   "cell_type": "code",
   "execution_count": 52,
   "metadata": {},
   "outputs": [],
   "source": [
    "adaptive_thresh_img=cv2.adaptiveThreshold(gray_img,255,cv2.ADAPTIVE_THRESH_GAUSSIAN_C,cv2.THRESH_BINARY,11,2)\n",
    "cv2.imshow('Adaptive Threshold',adaptive_thresh_img)\n",
    "cv2.waitKey(0)\n",
    "cv2.destroyAllWindows()"
   ]
  },
  {
   "cell_type": "code",
   "execution_count": 53,
   "metadata": {},
   "outputs": [],
   "source": [
    "edges=cv2.Canny(resized_img,200,255)\n",
    "cv2.imshow(\"Canny Edges\",edges)\n",
    "cv2.waitKey(0)\n",
    "cv2.destroyAllWindows()"
   ]
  }
 ],
 "metadata": {
  "kernelspec": {
   "display_name": "Python 3",
   "language": "python",
   "name": "python3"
  },
  "language_info": {
   "codemirror_mode": {
    "name": "ipython",
    "version": 3
   },
   "file_extension": ".py",
   "mimetype": "text/x-python",
   "name": "python",
   "nbconvert_exporter": "python",
   "pygments_lexer": "ipython3",
   "version": "3.11.9"
  }
 },
 "nbformat": 4,
 "nbformat_minor": 2
}
